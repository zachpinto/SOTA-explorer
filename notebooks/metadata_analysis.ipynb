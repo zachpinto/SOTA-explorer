{
 "cells": [
  {
   "cell_type": "code",
   "id": "initial_id",
   "metadata": {
    "collapsed": true,
    "ExecuteTime": {
     "end_time": "2024-06-13T20:28:31.753163Z",
     "start_time": "2024-06-13T20:28:31.747923Z"
    }
   },
   "source": [
    "import os\n",
    "import json\n",
    "import pandas as pd"
   ],
   "outputs": [],
   "execution_count": 34
  },
  {
   "metadata": {
    "ExecuteTime": {
     "end_time": "2024-06-13T20:28:32.107158Z",
     "start_time": "2024-06-13T20:28:32.084134Z"
    }
   },
   "cell_type": "code",
   "source": [
    "# count total number of JSON files\n",
    "DATA_DIR = \"../data/raw\"\n",
    "\n",
    "json_files = [f for f in os.listdir(DATA_DIR) if f.endswith('.json')]\n",
    "total_files = len(json_files)\n",
    "\n",
    "print(f\"Total number of JSON files: {total_files}\")"
   ],
   "id": "c257653cf661d7b4",
   "outputs": [
    {
     "name": "stdout",
     "output_type": "stream",
     "text": [
      "Total number of JSON files: 23045\n"
     ]
    }
   ],
   "execution_count": 35
  },
  {
   "metadata": {
    "ExecuteTime": {
     "end_time": "2024-06-13T20:28:33.388734Z",
     "start_time": "2024-06-13T20:28:33.363635Z"
    }
   },
   "cell_type": "code",
   "source": [
    "# Categorize and count by type\n",
    "file_types = {\n",
    "    'areas': 0,\n",
    "    'tasks': 0,\n",
    "    'task': 0,\n",
    "    'evaluations': 0,\n",
    "    'evaluation_results': 0,\n",
    "    'parents': 0,\n",
    "    'children': 0,\n",
    "}\n",
    "\n",
    "for file in json_files:\n",
    "    if file.startswith(\"areas\"):\n",
    "        file_types['areas'] += 1\n",
    "    elif file.startswith(\"tasks_\"):\n",
    "        file_types['tasks'] += 1\n",
    "    elif file.startswith(\"task_\") and not file.endswith(\"_parents.json\") and not file.endswith(\"_children.json\") and not file.endswith(\"_evaluations.json\"):\n",
    "        file_types['task'] += 1\n",
    "    elif file.startswith(\"task_\") and file.endswith(\"_parents.json\"):\n",
    "        file_types['parents'] += 1\n",
    "    elif file.startswith(\"task_\") and file.endswith(\"_children.json\"):\n",
    "        file_types['children'] += 1\n",
    "    elif file.startswith(\"task_\") and file.endswith(\"_evaluations.json\"):\n",
    "        file_types['evaluations'] += 1\n",
    "    elif file.startswith(\"evaluation_\") and file.endswith(\"_results.json\"):\n",
    "        file_types['evaluation_results'] += 1\n",
    "        \n",
    "print(\"File counts by type: \")\n",
    "for file_type, count in file_types.items():\n",
    "    print(f\"{file_type}: {count}\")\n"
   ],
   "id": "a3f2d55a02d232d1",
   "outputs": [
    {
     "name": "stdout",
     "output_type": "stream",
     "text": [
      "File counts by type: \n",
      "areas: 1\n",
      "tasks: 16\n",
      "task: 3371\n",
      "evaluations: 3371\n",
      "evaluation_results: 9544\n",
      "parents: 3371\n",
      "children: 3371\n"
     ]
    }
   ],
   "execution_count": 36
  },
  {
   "metadata": {
    "ExecuteTime": {
     "end_time": "2024-06-13T20:31:09.338424Z",
     "start_time": "2024-06-13T20:31:09.316482Z"
    }
   },
   "cell_type": "code",
   "source": [
    "# how many distinct tasks have evaluation results\n",
    "# this will be distinct number of strings that start with \"evaluation_\" and end with \"_results.json\" but if they have \"-on-\" in the middle, it still counts as one\n",
    "\n",
    "# Find distinct tasks with evaluation results\n",
    "distinct_tasks_with_results = set()\n",
    "\n",
    "for file in json_files:\n",
    "    if file.startswith(\"evaluation_\") and file.endswith(\"_results.json\"):\n",
    "        if '-on-' in file:\n",
    "            task_name = file[len('evaluation_'):file.index('-on-')]\n",
    "            distinct_tasks_with_results.add(task_name)\n",
    "\n",
    "# Count the number of distinct tasks\n",
    "num_distinct_tasks = len(distinct_tasks_with_results)\n",
    "\n",
    "print(f\"Number of distinct tasks with evaluation results: {num_distinct_tasks}\")"
   ],
   "id": "f9b8ce64054f0b6a",
   "outputs": [
    {
     "name": "stdout",
     "output_type": "stream",
     "text": [
      "Number of distinct tasks with evaluation results: 1681\n"
     ]
    }
   ],
   "execution_count": 39
  },
  {
   "metadata": {},
   "cell_type": "code",
   "outputs": [],
   "execution_count": null,
   "source": "",
   "id": "8395b3bf6f60630e"
  }
 ],
 "metadata": {
  "kernelspec": {
   "display_name": "Python 3",
   "language": "python",
   "name": "python3"
  },
  "language_info": {
   "codemirror_mode": {
    "name": "ipython",
    "version": 2
   },
   "file_extension": ".py",
   "mimetype": "text/x-python",
   "name": "python",
   "nbconvert_exporter": "python",
   "pygments_lexer": "ipython2",
   "version": "2.7.6"
  }
 },
 "nbformat": 4,
 "nbformat_minor": 5
}
